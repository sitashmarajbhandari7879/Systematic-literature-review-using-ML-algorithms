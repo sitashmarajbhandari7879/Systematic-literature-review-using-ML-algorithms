{
 "cells": [
  {
   "cell_type": "code",
   "execution_count": 1,
   "id": "cd0d0dc7",
   "metadata": {},
   "outputs": [],
   "source": [
    "import pandas as pd\n",
    "import numpy as np\n",
    "from sklearn.feature_extraction.text import TfidfVectorizer\n",
    "from sklearn.metrics.pairwise import cosine_similarity\n",
    "from scipy.stats import rankdata\n",
    "from sklearn.model_selection import train_test_split\n",
    "from sklearn.metrics import classification_report\n",
    "from sklearn.ensemble import RandomForestClassifier\n",
    "\n",
    "'''Packages for preprocessing'''\n",
    "from nltk.corpus import stopwords\n",
    "from nltk.stem import WordNetLemmatizer\n",
    "from nltk.stem.snowball import SnowballStemmer\n",
    "import re\n",
    "import nltk \n",
    "from nltk.tokenize import word_tokenize,sent_tokenize\n",
    "\n",
    "\n"
   ]
  },
  {
   "cell_type": "code",
   "execution_count": 2,
   "id": "e1f8e57f",
   "metadata": {},
   "outputs": [],
   "source": [
    "# Load CSV file into Pandas dataframe\n",
    "df = pd.read_csv('clean_dataset1.csv', encoding='ISO-8859-1')"
   ]
  },
  {
   "cell_type": "code",
   "execution_count": 3,
   "id": "dd550e66",
   "metadata": {},
   "outputs": [],
   "source": [
    "'''THis block of code pre processes the data'''# stemmer = SnowballStemmer(\"english\") \n",
    "lemmatizer = WordNetLemmatizer()\n",
    "stop_words = set(stopwords.words(\"english\"))\n",
    "\n",
    "def clean_text(text, for_embedding=False):\n",
    "    \"\"\"\n",
    "        - remove any html tags (< /br> often found)\n",
    "        - Keep only ASCII + European Chars and whitespace, no digits\n",
    "        - remove single letter chars\n",
    "        - convert all whitespaces (tabs etc.) to single wspace\n",
    "        if not for embedding (but e.g. tdf-idf):\n",
    "        - all lowercase\n",
    "        - remove stopwords, punctuation and stemm\n",
    "    \"\"\"\n",
    "    RE_WSPACE = re.compile(r\"\\s+\", re.IGNORECASE) #remove white space\n",
    "    RE_TAGS = re.compile(r\"<[^>]+>\") #removes tags\n",
    "    RE_ASCII = re.compile(r\"[^A-Za-zÀ-ž ]\", re.IGNORECASE) #keep only asscii character\n",
    "    RE_SINGLECHAR = re.compile(r\"\\b[A-Za-zÀ-ž]\\b\", re.IGNORECASE)\n",
    "    if for_embedding:\n",
    "        # Keep punctuation\n",
    "        RE_ASCII = re.compile(r\"[^A-Za-zÀ-ž,.!? ]\", re.IGNORECASE)\n",
    "        RE_SINGLECHAR = re.compile(r\"\\b[A-Za-zÀ-ž,.!?]\\b\", re.IGNORECASE)\n",
    "\n",
    "    text = re.sub(RE_TAGS, \" \", str(text))\n",
    "    text = re.sub(RE_ASCII, \" \", str(text))\n",
    "    text = re.sub(RE_SINGLECHAR, \" \", str(text))\n",
    "    text = re.sub(RE_WSPACE, \" \", str(text))\n",
    "\n",
    "    word_tokens = word_tokenize(text)\n",
    "    words_tokens_lower = [word.lower() for word in word_tokens]\n",
    "\n",
    "    if for_embedding:\n",
    "        # no stemming, lowering and punctuation / stop words removal\n",
    "        words_filtered = word_tokens\n",
    "    else:\n",
    "        words_filtered = [lemmatizer.lemmatize(w) for w in words_tokens_lower if w not in stop_words]\n",
    "        \n",
    "#         words_filtered = [\n",
    "#             stemmer.stem(word) for word in words_tokens_lower if word not in stop_words\n",
    "#         ]\n",
    "\n",
    "    text_clean = \" \".join(words_filtered)\n",
    "    return text_clean\n"
   ]
  },
  {
   "cell_type": "code",
   "execution_count": 4,
   "id": "89e93375",
   "metadata": {},
   "outputs": [
    {
     "name": "stdout",
     "output_type": "stream",
     "text": [
      "Enter query: computer\n"
     ]
    }
   ],
   "source": [
    "query = input('Enter query: ')\n",
    "query_processed = clean_text(query)"
   ]
  },
  {
   "cell_type": "code",
   "execution_count": 5,
   "id": "f6a9bcf9",
   "metadata": {},
   "outputs": [],
   "source": [
    "vectorizer = TfidfVectorizer()\n",
    "document_vectors = vectorizer.fit_transform(df['Document Title'] + ' ' + df['Abstract'])\n",
    "query_vectore = vectorizer.transform([query_processed])\n",
    "cosine_similarities = cosine_similarity(query_vectore, document_vectors)"
   ]
  },
  {
   "cell_type": "code",
   "execution_count": 6,
   "id": "cfbbcf43",
   "metadata": {},
   "outputs": [
    {
     "data": {
      "text/html": [
       "<div>\n",
       "<style scoped>\n",
       "    .dataframe tbody tr th:only-of-type {\n",
       "        vertical-align: middle;\n",
       "    }\n",
       "\n",
       "    .dataframe tbody tr th {\n",
       "        vertical-align: top;\n",
       "    }\n",
       "\n",
       "    .dataframe thead th {\n",
       "        text-align: right;\n",
       "    }\n",
       "</style>\n",
       "<table border=\"1\" class=\"dataframe\">\n",
       "  <thead>\n",
       "    <tr style=\"text-align: right;\">\n",
       "      <th></th>\n",
       "      <th>title</th>\n",
       "      <th>abstract</th>\n",
       "      <th>url</th>\n",
       "      <th>year</th>\n",
       "      <th>similarity_score</th>\n",
       "      <th>relevance_score</th>\n",
       "    </tr>\n",
       "  </thead>\n",
       "  <tbody>\n",
       "    <tr>\n",
       "      <th>21</th>\n",
       "      <td>self testing computer</td>\n",
       "      <td>built test technique exploit hardware redundan...</td>\n",
       "      <td>http://ieeexplore.ieee.org/stamp/stamp.jsp?arn...</td>\n",
       "      <td>1979</td>\n",
       "      <td>0.453355</td>\n",
       "      <td>2</td>\n",
       "    </tr>\n",
       "    <tr>\n",
       "      <th>32</th>\n",
       "      <td>fault tolerant computer system</td>\n",
       "      <td>paper review method reliable processing contro...</td>\n",
       "      <td>http://ieeexplore.ieee.org/stamp/stamp.jsp?arn...</td>\n",
       "      <td>1981</td>\n",
       "      <td>0.357799</td>\n",
       "      <td>2</td>\n",
       "    </tr>\n",
       "    <tr>\n",
       "      <th>1191</th>\n",
       "      <td>fault tolerant computer automated transfer veh...</td>\n",
       "      <td>matra marconi space developing fourth generati...</td>\n",
       "      <td>http://ieeexplore.ieee.org/stamp/stamp.jsp?arn...</td>\n",
       "      <td>1998</td>\n",
       "      <td>0.324550</td>\n",
       "      <td>2</td>\n",
       "    </tr>\n",
       "    <tr>\n",
       "      <th>89</th>\n",
       "      <td>expert system high voltage discharge test</td>\n",
       "      <td>technical advance reduction cost computer hard...</td>\n",
       "      <td>http://ieeexplore.ieee.org/stamp/stamp.jsp?arn...</td>\n",
       "      <td>1987</td>\n",
       "      <td>0.293480</td>\n",
       "      <td>1</td>\n",
       "    </tr>\n",
       "    <tr>\n",
       "      <th>0</th>\n",
       "      <td>diagnostic maintenance technique using computer</td>\n",
       "      <td>possible technique attending software need adv...</td>\n",
       "      <td>http://ieeexplore.ieee.org/stamp/stamp.jsp?arn...</td>\n",
       "      <td>1963</td>\n",
       "      <td>0.290579</td>\n",
       "      <td>1</td>\n",
       "    </tr>\n",
       "    <tr>\n",
       "      <th>...</th>\n",
       "      <td>...</td>\n",
       "      <td>...</td>\n",
       "      <td>...</td>\n",
       "      <td>...</td>\n",
       "      <td>...</td>\n",
       "      <td>...</td>\n",
       "    </tr>\n",
       "    <tr>\n",
       "      <th>2141</th>\n",
       "      <td>approach intelligent detection fault diagnosis...</td>\n",
       "      <td>paper approach intelligent detection fault dia...</td>\n",
       "      <td>http://ieeexplore.ieee.org/stamp/stamp.jsp?arn...</td>\n",
       "      <td>2002</td>\n",
       "      <td>0.000000</td>\n",
       "      <td>0</td>\n",
       "    </tr>\n",
       "    <tr>\n",
       "      <th>2140</th>\n",
       "      <td>umts easycope tool umts network algorithm eval...</td>\n",
       "      <td>umts radio access network problem dimensioning...</td>\n",
       "      <td>http://ieeexplore.ieee.org/stamp/stamp.jsp?arn...</td>\n",
       "      <td>2002</td>\n",
       "      <td>0.000000</td>\n",
       "      <td>0</td>\n",
       "    </tr>\n",
       "    <tr>\n",
       "      <th>2139</th>\n",
       "      <td>test case prioritization family empirical study</td>\n",
       "      <td>reduce cost regression testing software tester...</td>\n",
       "      <td>http://ieeexplore.ieee.org/stamp/stamp.jsp?arn...</td>\n",
       "      <td>2002</td>\n",
       "      <td>0.000000</td>\n",
       "      <td>0</td>\n",
       "    </tr>\n",
       "    <tr>\n",
       "      <th>2138</th>\n",
       "      <td>body knowledge software quality measurement</td>\n",
       "      <td>measuring quality key developing high quality ...</td>\n",
       "      <td>http://ieeexplore.ieee.org/stamp/stamp.jsp?arn...</td>\n",
       "      <td>2002</td>\n",
       "      <td>0.000000</td>\n",
       "      <td>0</td>\n",
       "    </tr>\n",
       "    <tr>\n",
       "      <th>5999</th>\n",
       "      <td>rate distortion optimized image coding allowin...</td>\n",
       "      <td>paper proposes efficient lossy image coding sc...</td>\n",
       "      <td>http://ieeexplore.ieee.org/stamp/stamp.jsp?arn...</td>\n",
       "      <td>2011</td>\n",
       "      <td>0.000000</td>\n",
       "      <td>0</td>\n",
       "    </tr>\n",
       "  </tbody>\n",
       "</table>\n",
       "<p>6000 rows × 6 columns</p>\n",
       "</div>"
      ],
      "text/plain": [
       "                                                  title  \\\n",
       "21                                self testing computer   \n",
       "32                       fault tolerant computer system   \n",
       "1191  fault tolerant computer automated transfer veh...   \n",
       "89            expert system high voltage discharge test   \n",
       "0       diagnostic maintenance technique using computer   \n",
       "...                                                 ...   \n",
       "2141  approach intelligent detection fault diagnosis...   \n",
       "2140  umts easycope tool umts network algorithm eval...   \n",
       "2139    test case prioritization family empirical study   \n",
       "2138        body knowledge software quality measurement   \n",
       "5999  rate distortion optimized image coding allowin...   \n",
       "\n",
       "                                               abstract  \\\n",
       "21    built test technique exploit hardware redundan...   \n",
       "32    paper review method reliable processing contro...   \n",
       "1191  matra marconi space developing fourth generati...   \n",
       "89    technical advance reduction cost computer hard...   \n",
       "0     possible technique attending software need adv...   \n",
       "...                                                 ...   \n",
       "2141  paper approach intelligent detection fault dia...   \n",
       "2140  umts radio access network problem dimensioning...   \n",
       "2139  reduce cost regression testing software tester...   \n",
       "2138  measuring quality key developing high quality ...   \n",
       "5999  paper proposes efficient lossy image coding sc...   \n",
       "\n",
       "                                                    url  year  \\\n",
       "21    http://ieeexplore.ieee.org/stamp/stamp.jsp?arn...  1979   \n",
       "32    http://ieeexplore.ieee.org/stamp/stamp.jsp?arn...  1981   \n",
       "1191  http://ieeexplore.ieee.org/stamp/stamp.jsp?arn...  1998   \n",
       "89    http://ieeexplore.ieee.org/stamp/stamp.jsp?arn...  1987   \n",
       "0     http://ieeexplore.ieee.org/stamp/stamp.jsp?arn...  1963   \n",
       "...                                                 ...   ...   \n",
       "2141  http://ieeexplore.ieee.org/stamp/stamp.jsp?arn...  2002   \n",
       "2140  http://ieeexplore.ieee.org/stamp/stamp.jsp?arn...  2002   \n",
       "2139  http://ieeexplore.ieee.org/stamp/stamp.jsp?arn...  2002   \n",
       "2138  http://ieeexplore.ieee.org/stamp/stamp.jsp?arn...  2002   \n",
       "5999  http://ieeexplore.ieee.org/stamp/stamp.jsp?arn...  2011   \n",
       "\n",
       "      similarity_score  relevance_score  \n",
       "21            0.453355                2  \n",
       "32            0.357799                2  \n",
       "1191          0.324550                2  \n",
       "89            0.293480                1  \n",
       "0             0.290579                1  \n",
       "...                ...              ...  \n",
       "2141          0.000000                0  \n",
       "2140          0.000000                0  \n",
       "2139          0.000000                0  \n",
       "2138          0.000000                0  \n",
       "5999          0.000000                0  \n",
       "\n",
       "[6000 rows x 6 columns]"
      ]
     },
     "execution_count": 6,
     "metadata": {},
     "output_type": "execute_result"
    }
   ],
   "source": [
    "# create a new dataframe to store the results\n",
    "result_df = pd.DataFrame({\n",
    "    'title': df['Document Title'],\n",
    "    'abstract': df['Abstract'],\n",
    "    'url': df['PDF Link'],\n",
    "    'year': df['Year'],\n",
    "    'similarity_score': cosine_similarities.flatten()\n",
    "})\n",
    "\n",
    "result_df['relevance_score'] = result_df['similarity_score'].apply(lambda x: 0 if x<0.1 else (1 if x<0.3 else (2 if x<7 else 3)))\n",
    "result_df.sort_values(by='similarity_score', ascending=False)\n"
   ]
  },
  {
   "cell_type": "code",
   "execution_count": 21,
   "id": "7b67f801",
   "metadata": {},
   "outputs": [
    {
     "ename": "TypeError",
     "evalue": "'<' not supported between instances of 'int' and 'str'",
     "output_type": "error",
     "traceback": [
      "\u001b[1;31m---------------------------------------------------------------------------\u001b[0m",
      "\u001b[1;31mTypeError\u001b[0m                                 Traceback (most recent call last)",
      "Input \u001b[1;32mIn [21]\u001b[0m, in \u001b[0;36m<cell line: 2>\u001b[1;34m()\u001b[0m\n\u001b[0;32m      1\u001b[0m ranked_indices \u001b[38;5;241m=\u001b[39m []\n\u001b[1;32m----> 2\u001b[0m ranked_indices \u001b[38;5;241m=\u001b[39m \u001b[43mnp\u001b[49m\u001b[38;5;241;43m.\u001b[39;49m\u001b[43margsort\u001b[49m\u001b[43m(\u001b[49m\u001b[43mresult_df\u001b[49m\u001b[43m)\u001b[49m\n\u001b[0;32m      3\u001b[0m ranked_indices\n",
      "File \u001b[1;32m<__array_function__ internals>:180\u001b[0m, in \u001b[0;36margsort\u001b[1;34m(*args, **kwargs)\u001b[0m\n",
      "File \u001b[1;32m~\\AppData\\Roaming\\Python\\Python310\\site-packages\\numpy\\core\\fromnumeric.py:1120\u001b[0m, in \u001b[0;36margsort\u001b[1;34m(a, axis, kind, order)\u001b[0m\n\u001b[0;32m   1012\u001b[0m \u001b[38;5;129m@array_function_dispatch\u001b[39m(_argsort_dispatcher)\n\u001b[0;32m   1013\u001b[0m \u001b[38;5;28;01mdef\u001b[39;00m \u001b[38;5;21margsort\u001b[39m(a, axis\u001b[38;5;241m=\u001b[39m\u001b[38;5;241m-\u001b[39m\u001b[38;5;241m1\u001b[39m, kind\u001b[38;5;241m=\u001b[39m\u001b[38;5;28;01mNone\u001b[39;00m, order\u001b[38;5;241m=\u001b[39m\u001b[38;5;28;01mNone\u001b[39;00m):\n\u001b[0;32m   1014\u001b[0m     \u001b[38;5;124;03m\"\"\"\u001b[39;00m\n\u001b[0;32m   1015\u001b[0m \u001b[38;5;124;03m    Returns the indices that would sort an array.\u001b[39;00m\n\u001b[0;32m   1016\u001b[0m \n\u001b[1;32m   (...)\u001b[0m\n\u001b[0;32m   1118\u001b[0m \n\u001b[0;32m   1119\u001b[0m \u001b[38;5;124;03m    \"\"\"\u001b[39;00m\n\u001b[1;32m-> 1120\u001b[0m     \u001b[38;5;28;01mreturn\u001b[39;00m \u001b[43m_wrapfunc\u001b[49m\u001b[43m(\u001b[49m\u001b[43ma\u001b[49m\u001b[43m,\u001b[49m\u001b[43m \u001b[49m\u001b[38;5;124;43m'\u001b[39;49m\u001b[38;5;124;43margsort\u001b[39;49m\u001b[38;5;124;43m'\u001b[39;49m\u001b[43m,\u001b[49m\u001b[43m \u001b[49m\u001b[43maxis\u001b[49m\u001b[38;5;241;43m=\u001b[39;49m\u001b[43maxis\u001b[49m\u001b[43m,\u001b[49m\u001b[43m \u001b[49m\u001b[43mkind\u001b[49m\u001b[38;5;241;43m=\u001b[39;49m\u001b[43mkind\u001b[49m\u001b[43m,\u001b[49m\u001b[43m \u001b[49m\u001b[43morder\u001b[49m\u001b[38;5;241;43m=\u001b[39;49m\u001b[43morder\u001b[49m\u001b[43m)\u001b[49m\n",
      "File \u001b[1;32m~\\AppData\\Roaming\\Python\\Python310\\site-packages\\numpy\\core\\fromnumeric.py:54\u001b[0m, in \u001b[0;36m_wrapfunc\u001b[1;34m(obj, method, *args, **kwds)\u001b[0m\n\u001b[0;32m     52\u001b[0m bound \u001b[38;5;241m=\u001b[39m \u001b[38;5;28mgetattr\u001b[39m(obj, method, \u001b[38;5;28;01mNone\u001b[39;00m)\n\u001b[0;32m     53\u001b[0m \u001b[38;5;28;01mif\u001b[39;00m bound \u001b[38;5;129;01mis\u001b[39;00m \u001b[38;5;28;01mNone\u001b[39;00m:\n\u001b[1;32m---> 54\u001b[0m     \u001b[38;5;28;01mreturn\u001b[39;00m _wrapit(obj, method, \u001b[38;5;241m*\u001b[39margs, \u001b[38;5;241m*\u001b[39m\u001b[38;5;241m*\u001b[39mkwds)\n\u001b[0;32m     56\u001b[0m \u001b[38;5;28;01mtry\u001b[39;00m:\n\u001b[0;32m     57\u001b[0m     \u001b[38;5;28;01mreturn\u001b[39;00m bound(\u001b[38;5;241m*\u001b[39margs, \u001b[38;5;241m*\u001b[39m\u001b[38;5;241m*\u001b[39mkwds)\n",
      "File \u001b[1;32m~\\AppData\\Roaming\\Python\\Python310\\site-packages\\numpy\\core\\fromnumeric.py:43\u001b[0m, in \u001b[0;36m_wrapit\u001b[1;34m(obj, method, *args, **kwds)\u001b[0m\n\u001b[0;32m     41\u001b[0m \u001b[38;5;28;01mexcept\u001b[39;00m \u001b[38;5;167;01mAttributeError\u001b[39;00m:\n\u001b[0;32m     42\u001b[0m     wrap \u001b[38;5;241m=\u001b[39m \u001b[38;5;28;01mNone\u001b[39;00m\n\u001b[1;32m---> 43\u001b[0m result \u001b[38;5;241m=\u001b[39m \u001b[38;5;28mgetattr\u001b[39m(asarray(obj), method)(\u001b[38;5;241m*\u001b[39margs, \u001b[38;5;241m*\u001b[39m\u001b[38;5;241m*\u001b[39mkwds)\n\u001b[0;32m     44\u001b[0m \u001b[38;5;28;01mif\u001b[39;00m wrap:\n\u001b[0;32m     45\u001b[0m     \u001b[38;5;28;01mif\u001b[39;00m \u001b[38;5;129;01mnot\u001b[39;00m \u001b[38;5;28misinstance\u001b[39m(result, mu\u001b[38;5;241m.\u001b[39mndarray):\n",
      "\u001b[1;31mTypeError\u001b[0m: '<' not supported between instances of 'int' and 'str'"
     ]
    }
   ],
   "source": [
    "ranked_indices = []\n",
    "ranked_indices = np.argsort(result_df)\n",
    "ranked_indices"
   ]
  },
  {
   "cell_type": "code",
   "execution_count": 16,
   "id": "de09b65a",
   "metadata": {},
   "outputs": [
    {
     "data": {
      "text/plain": [
       "array([1, 0, 0, ..., 0, 0, 0], dtype=int64)"
      ]
     },
     "execution_count": 16,
     "metadata": {},
     "output_type": "execute_result"
    }
   ],
   "source": [
    "relevance_scores = result_df.relevance_score.values\n",
    "relevance_scores"
   ]
  },
  {
   "cell_type": "code",
   "execution_count": 10,
   "id": "d0a450d2",
   "metadata": {},
   "outputs": [
    {
     "name": "stdout",
     "output_type": "stream",
     "text": [
      "NDCG score at 5: 0.1984\n",
      "NDCG score at 10: 0.2003\n",
      "NDCG score at 20: 0.1992\n"
     ]
    },
    {
     "data": {
      "image/png": "[encoded data removed]",
      "text/plain": [
       "<Figure size 432x288 with 1 Axes>"
      ]
     },
     "metadata": {
      "needs_background": "light"
     },
     "output_type": "display_data"
    }
   ],
   "source": [
    "'''Using Ndcg as metric for evaluation'''\n",
    "\n",
    "def ndcg_at_k(relevances, k):\n",
    "    \"\"\"\n",
    "    Compute Normalized Discounted Cumulative Gain (NDCG) at k.\n",
    "    relevances: list of document relevances (0 or 1) in the ranked order\n",
    "    k: the cutoff for the ranking position\n",
    "    \"\"\"\n",
    "    dcg = np.sum((np.power(2, relevances[:k]) - 1) / np.log2(np.arange(2, k + 2)))\n",
    "    idcg = np.sum((np.power(2, sorted(relevances, reverse=True)[:k]) - 1) / np.log2(np.arange(2, k + 2)))\n",
    "    return dcg / idcg\n",
    "\n",
    "k_values = [5, 10, 20]\n",
    "ndcg_scores = []\n",
    "for k in k_values:\n",
    "    ndcg = ndcg_at_k(result_df['relevance_score'].tolist(), k)\n",
    "    ndcg_scores.append(ndcg)\n",
    "    print(f\"NDCG score at {k}: {ndcg:.4f}\")\n",
    "\n",
    "# Plot the NDCG scores\n",
    "import matplotlib.pyplot as plt\n",
    "plt.plot(k_values, ndcg_scores)\n",
    "plt.xlabel('k')\n",
    "plt.ylabel('NDCG score')\n",
    "plt.title('NDCG score vs. cutoff k')\n",
    "plt.show()\n",
    "\n",
    "# the reason it was 1 is because in this dataframe all the documenz as fixed position so when sorted the one with most similariy was lawys in the top"
   ]
  },
  {
   "cell_type": "code",
   "execution_count": null,
   "id": "32ffe930",
   "metadata": {},
   "outputs": [],
   "source": [
    "\n",
    "        "
   ]
  },
  {
   "cell_type": "markdown",
   "id": "fbe6a63c",
   "metadata": {},
   "source": [
    "--------------------------------------------------------------------------\n"
   ]
  },
  {
   "cell_type": "raw",
   "id": "e2b4b624",
   "metadata": {},
   "source": [
    "Using LambdaRank algorithm to predict the relevance of documents in a dataset with titles and abstracts, with respect to a given query by a user:\n",
    "\n",
    "Data Preparation:\n",
    "First, you need to prepare your dataset by creating a feature vector for each document that represents its relevance to the query. You can use a variety of features, such as the number of times the query term appears in the title or abstract, the length of the document, or the number of inbound links to the document.\n",
    "\n",
    "Feature Engineering:\n",
    "Next, you can perform feature engineering on your feature vector to extract more meaningful information from it. For example, you could use a term frequency-inverse document frequency (TF-IDF) representation of the title and abstract to give more weight to rare terms that are more informative.\n",
    "\n",
    "Splitting Data:\n",
    "Now, you can split your dataset into training, validation, and testing sets. The training set is used to train the LambdaRank model, while the validation set is used to tune the hyperparameters of the model. Finally, the testing set is used to evaluate the performance of the trained model.\n",
    "\n",
    "Training Model:\n",
    "Train the LambdaRank model on the training set. LambdaRank is a listwise approach, so it takes as input a list of documents and their feature vectors, and outputs a ranked list of documents based on their relevance to the query. During training, the model learns to optimize a pairwise ranking loss function that encourages the model to rank more relevant documents higher than less relevant ones.\n",
    "\n",
    "Hyperparameter Tuning:\n",
    "Tune the hyperparameters of the LambdaRank model using the validation set. You can experiment with different learning rates, regularization parameters, and the number of boosting rounds.\n",
    "\n",
    "Evaluation:\n",
    "Evaluate the performance of the trained model on the testing set. You can use standard evaluation metrics such as mean average precision (MAP), normalized discounted cumulative gain (NDCG), or precision at k (P@k).\n",
    "\n",
    "Note that there are many libraries and frameworks available that can help you implement the LambdaRank algorithm for learning to rank, such as RankLib, LightGBM, or XGBoost."
   ]
  },
  {
   "cell_type": "code",
   "execution_count": 8,
   "id": "a438dba0",
   "metadata": {},
   "outputs": [],
   "source": [
    "X = result_df[['title', 'abstract']]\n",
    "y = result_df['relevance_score']\n"
   ]
  },
  {
   "cell_type": "code",
   "execution_count": 9,
   "id": "0966d796",
   "metadata": {},
   "outputs": [
    {
     "ename": "NameError",
     "evalue": "name 'X_train' is not defined",
     "output_type": "error",
     "traceback": [
      "\u001b[1;31m---------------------------------------------------------------------------\u001b[0m",
      "\u001b[1;31mNameError\u001b[0m                                 Traceback (most recent call last)",
      "Input \u001b[1;32mIn [9]\u001b[0m, in \u001b[0;36m<cell line: 2>\u001b[1;34m()\u001b[0m\n\u001b[0;32m      1\u001b[0m \u001b[38;5;66;03m# Convert the sparse matrices to dense numpy arrays\u001b[39;00m\n\u001b[1;32m----> 2\u001b[0m X_train \u001b[38;5;241m=\u001b[39m \u001b[43mX_train\u001b[49m\u001b[38;5;241m.\u001b[39mtoarray()\n\u001b[0;32m      3\u001b[0m X_val \u001b[38;5;241m=\u001b[39m X_val\u001b[38;5;241m.\u001b[39mtoarray()\n\u001b[0;32m      4\u001b[0m X_test \u001b[38;5;241m=\u001b[39m X_test\u001b[38;5;241m.\u001b[39mtoarray()\n",
      "\u001b[1;31mNameError\u001b[0m: name 'X_train' is not defined"
     ]
    }
   ],
   "source": [
    "# Convert the sparse matrices to dense numpy arrays\n",
    "X_train = X_train.toarray()\n",
    "X_val = X_val.toarray()\n",
    "X_test = X_test.toarray()"
   ]
  },
  {
   "cell_type": "code",
   "execution_count": null,
   "id": "1e407ca5",
   "metadata": {},
   "outputs": [],
   "source": [
    "# Split dataset into training, validation, and testing sets\n",
    "X_train, X_test, y_train, y_test = train_test_split(document_vectors, y, test_size=0.2, random_state=42)\n",
    "X_train, X_val, y_train, y_val = train_test_split(X_train, y_train, test_size=0.2, random_state=42)"
   ]
  },
  {
   "cell_type": "code",
   "execution_count": null,
   "id": "4e21d9ff",
   "metadata": {},
   "outputs": [],
   "source": [
    "# Train the LambdaMART model\n",
    "from sklearn.model_selection import train_test_split\n",
    "from pyltr.models.lambdamart import LambdaMART\n",
    "from sklearn.metrics import ndcg_score\n",
    "\n",
    "\n",
    "# Train the LambdaMART model\n",
    "model = LambdaMART()\n",
    "model.fit(X_train, y_train, X_val, y_val)\n",
    "\n",
    "# Evaluate the performance of the model on the testing set\n",
    "y_pred = model.predict(X_test)\n",
    "ndcg = ndcg_score(np.array([y_test]), np.array([y_pred]), k=10)\n",
    "print('NDCG@10:', ndcg)"
   ]
  },
  {
   "cell_type": "code",
   "execution_count": null,
   "id": "80dd92f2",
   "metadata": {},
   "outputs": [],
   "source": [
    "import rankpy \n",
    "from rankpy.models import LambdaMART\n"
   ]
  },
  {
   "cell_type": "code",
   "execution_count": null,
   "id": "c92ebd33",
   "metadata": {},
   "outputs": [],
   "source": []
  }
 ],
 "metadata": {
  "kernelspec": {
   "display_name": "Python 3 (ipykernel)",
   "language": "python",
   "name": "python3"
  },
  "language_info": {
   "codemirror_mode": {
    "name": "ipython",
    "version": 3
   },
   "file_extension": ".py",
   "mimetype": "text/x-python",
   "name": "python",
   "nbconvert_exporter": "python",
   "pygments_lexer": "ipython3",
   "version": "3.10.6"
  }
 },
 "nbformat": 4,
 "nbformat_minor": 5
}
